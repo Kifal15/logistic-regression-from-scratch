{
 "cells": [
  {
   "cell_type": "code",
   "execution_count": null,
   "metadata": {},
   "outputs": [],
   "source": [
    "## THIS IS THE CODE IM FOR THE ASSIGNMENT\n"
   ]
  },
  {
   "cell_type": "code",
   "execution_count": null,
   "metadata": {},
   "outputs": [],
   "source": [
    "import numpy as np\n",
    "from sklearn.datasets import load_iris ## LOADS THE IRIS DATASET SO WE HAVE SOMETHING TO WORK WITH \n",
    "from sklearn.preprocessing import StandardScaler # TO NORMALIZE THE DATASET\n",
    "from sklearn.model_selection import train_test_split # TO MAKE TEST AND TRAIN SETS"
   ]
  },
  {
   "cell_type": "code",
   "execution_count": null,
   "metadata": {},
   "outputs": [],
   "source": [
    "# function to define the sigmoid function\n",
    "def sigmoid (z):\n",
    "    return 1/(1+np.exp(-z))"
   ]
  },
  {
   "cell_type": "code",
   "execution_count": null,
   "metadata": {},
   "outputs": [],
   "source": [
    "# get predictions \n",
    "def predict (weights , X):\n",
    "    return sigmoid(np.dot(X, weights))"
   ]
  },
  {
   "cell_type": "code",
   "execution_count": null,
   "metadata": {},
   "outputs": [],
   "source": [
    "# loss function \n",
    "def logistic_loss(y_true , y_pred):\n",
    "    return -np.mean( y_true*np.log(y_pred)  + (1-y_true)*np.log(1-y_pred))"
   ]
  },
  {
   "cell_type": "code",
   "execution_count": null,
   "metadata": {},
   "outputs": [],
   "source": [
    "# gradient \n",
    "def gradient ( y_true , y_pred , X):\n",
    "    return np.dot(X.T , (y_pred - y_true) / len(y_true) )"
   ]
  },
  {
   "cell_type": "code",
   "execution_count": null,
   "metadata": {},
   "outputs": [],
   "source": [
    "def batch_gradient_descent(X , y , learning_rate = 0.01 ,epochs = 1 ):\n",
    "    weights = X.zeros(X.shape[1])\n",
    "    for _ in range(epochs(len(y))):\n",
    "        y_pred = predict(weights , X )\n",
    "        grad = gradient(y,y_pred,X)\n",
    "        weights -= learning_rate * grad\n",
    "    return weights"
   ]
  },
  {
   "cell_type": "code",
   "execution_count": null,
   "metadata": {},
   "outputs": [],
   "source": [
    "def stochastic_gradient_descent(X, y, learning_rate=0.01, epochs=1):\n",
    "    weights = np.zeros(X.shape[1])\n",
    "    for _ in range(epochs):\n",
    "        for i in range(len(y)):\n",
    "            y_pred = predict(weights, X[i])\n",
    "            grad = (y_pred - y[i]) * X[i]\n",
    "            weights -= learning_rate * grad\n",
    "    return weights"
   ]
  },
  {
   "cell_type": "code",
   "execution_count": null,
   "metadata": {},
   "outputs": [],
   "source": [
    "data = load_iris()\n",
    "\n",
    "X , y = data.data , data.target \n",
    "\n",
    "y_binary = (y == 0).astype(int)  \n"
   ]
  },
  {
   "cell_type": "code",
   "execution_count": null,
   "metadata": {},
   "outputs": [],
   "source": [
    "\n",
    "# Standardize data\n",
    "scaler = StandardScaler()\n",
    "X = scaler.fit_transform(X)\n",
    "\n",
    "# Train-test split\n",
    "X_train, X_test, y_train, y_test = train_test_split(X, y_binary, test_size=0.2, random_state=42)\n",
    "\n",
    "# Train logistic regression model using Batch Gradient Descent\n",
    "weights_bgd = batch_gradient_descent(X_train, y_train)\n",
    "y_pred_bgd = predict(weights_bgd, X_test) > 0.5\n",
    "accuracy_bgd = np.mean(y_pred_bgd == y_test)\n",
    "print(f'Batch Gradient Descent Accuracy: {accuracy_bgd * 100:.2f}%')\n",
    "\n",
    "# Train logistic regression model using Stochastic Gradient Descent\n",
    "weights_sgd = stochastic_gradient_descent(X_train, y_train)\n",
    "y_pred_sgd = predict(weights_sgd, X_test) > 0.5\n",
    "accuracy_sgd = np.mean(y_pred_sgd == y_test)\n",
    "print(f'Stochastic Gradient Descent Accuracy: {accuracy_sgd * 100:.2f}%')\n"
   ]
  }
 ],
 "metadata": {
  "kernelspec": {
   "display_name": "venv",
   "language": "python",
   "name": "python3"
  },
  "language_info": {
   "codemirror_mode": {
    "name": "ipython",
    "version": 3
   },
   "file_extension": ".py",
   "mimetype": "text/x-python",
   "name": "python",
   "nbconvert_exporter": "python",
   "pygments_lexer": "ipython3",
   "version": "3.12.3"
  }
 },
 "nbformat": 4,
 "nbformat_minor": 2
}
